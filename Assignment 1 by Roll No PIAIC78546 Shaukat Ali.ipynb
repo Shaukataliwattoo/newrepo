{
 "cells": [
  {
   "cell_type": "markdown",
   "metadata": {},
   "source": [
    "# Assignment 1 by Roll No PIAIC78546 Shaukat Ali"
   ]
  },
  {
   "cell_type": "markdown",
   "metadata": {},
   "source": [
    "#### Store data of a person in four variables such as name, age, class, university.  Use formating to output such results."
   ]
  },
  {
   "cell_type": "code",
   "execution_count": 3,
   "metadata": {},
   "outputs": [],
   "source": [
    "name = \"Ali Raza\"\n",
    "class_name = \"Artificial Intelligence\"\n",
    "university = \"PIAIC\"\n",
    "class_date = \"23 Feb 2020\""
   ]
  },
  {
   "cell_type": "code",
   "execution_count": 6,
   "metadata": {},
   "outputs": [
    {
     "name": "stdout",
     "output_type": "stream",
     "text": [
      "Hello 'Ali Raza'\n",
      "Your application is accepted for Artificial Intelligence in PIAIC, your class will be start wef 23 Feb 2020.\n"
     ]
    }
   ],
   "source": [
    "message = \"Hello '{}'\\nYour application is accepted for {} in {}, your class will be start wef {}.\".format(name,class_name,university,class_date)\n",
    "print(message)"
   ]
  }
 ],
 "metadata": {
  "kernelspec": {
   "display_name": "Python 3",
   "language": "python",
   "name": "python3"
  },
  "language_info": {
   "codemirror_mode": {
    "name": "ipython",
    "version": 3
   },
   "file_extension": ".py",
   "mimetype": "text/x-python",
   "name": "python",
   "nbconvert_exporter": "python",
   "pygments_lexer": "ipython3",
   "version": "3.7.4"
  }
 },
 "nbformat": 4,
 "nbformat_minor": 2
}
