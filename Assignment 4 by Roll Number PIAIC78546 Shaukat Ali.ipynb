{
 "cells": [
  {
   "cell_type": "markdown",
   "metadata": {},
   "source": [
    "# Assignment 4 by Roll No PIAIC78546 Shaukat Ali"
   ]
  },
  {
   "cell_type": "markdown",
   "metadata": {},
   "source": [
    "# Assignment 4\n",
    "Your first assignment is to write code to get input from user and store in dictionary and then store that dictionary in list. Here is the required input."
   ]
  },
  {
   "cell_type": "code",
   "execution_count": 1,
   "metadata": {},
   "outputs": [
    {
     "name": "stdout",
     "output_type": "stream",
     "text": [
      "How many persons of data you want? Enter the figure 2,3,4..3\n",
      "Enter your name: Hamza Ali\n",
      "Enter your Age: 25\n",
      "Enter your Work: A.I\n",
      "Enter your Skills: use comma for seperater for each skill: python, tensorflow, cloud\n",
      "Enter your Degree: title, major, completionDate: title : BS, major: computer Science, CompletionDate: Jun 2019te\n",
      "Enter your salary: 259999\n",
      "Enter your name: Farooq Aziz\n",
      "Enter your Age: 27\n",
      "Enter your Work: Cloud Native\n",
      "Enter your Skills: use comma for seperater for each skill: ubuntu, docker, kubernetes\n",
      "Enter your Degree: title, major, completionDate: title: MS, major: Software engineer, completionDate: May 2018\n",
      "Enter your salary: 200000\n",
      "Enter your name: Abu Bakr\n",
      "Enter your Age: 30\n",
      "Enter your Work: Blockchain\n",
      "Enter your Skills: use comma for seperater for each skill: python, Cryptography, Ethereum\n",
      "Enter your Degree: title, major, completionDate: title: BS, Major:Computer Science, completionDate: May 2019\n",
      "Enter your salary: 300000\n"
     ]
    }
   ],
   "source": [
    "Student = []\n",
    "Data = int(input(\"How many persons of data you want? Enter the figure 2,3,4..\"))\n",
    "for k in range(Data):\n",
    "    s={'name' : input(\"Enter your name: \"),\n",
    "    'age' : input(\"Enter your Age: \"),\n",
    "    'work' : input(\"Enter your Work: \"),\n",
    "    'skills' : [input(\"Enter your Skills: use comma for seperater for each skill: \")],\n",
    "    'degree' : {input(\"Enter your Degree: title, major, completionDate: \")},\n",
    "    'salary' : int(input(\"Enter your salary: \"))}\n",
    "    Student.append(s)"
   ]
  },
  {
   "cell_type": "code",
   "execution_count": 2,
   "metadata": {},
   "outputs": [
    {
     "name": "stdout",
     "output_type": "stream",
     "text": [
      "[{'name': 'Hamza Ali', 'age': '25', 'work': 'A.I', 'skills': ['python, tensorflow, cloud'], 'degree': {'title : BS, major: computer Science, CompletionDate: Jun 2019te'}, 'salary': 259999}, {'name': 'Farooq Aziz', 'age': '27', 'work': 'Cloud Native', 'skills': ['ubuntu, docker, kubernetes'], 'degree': {'title: MS, major: Software engineer, completionDate: May 2018'}, 'salary': 200000}, {'name': 'Abu Bakr', 'age': '30', 'work': 'Blockchain', 'skills': ['python, Cryptography, Ethereum'], 'degree': {'title: BS, Major:Computer Science, completionDate: May 2019'}, 'salary': 300000}]\n"
     ]
    }
   ],
   "source": [
    "print(Student)"
   ]
  },
  {
   "cell_type": "code",
   "execution_count": 3,
   "metadata": {},
   "outputs": [
    {
     "name": "stdout",
     "output_type": "stream",
     "text": [
      "Enter your starting table number: 2\n",
      "Enter your ending table Number: 5\n",
      " \n",
      "2 x 1 = 2\n",
      "2 x 2 = 4\n",
      "2 x 3 = 6\n",
      "2 x 4 = 8\n",
      "2 x 5 = 10\n",
      "2 x 6 = 12\n",
      "2 x 7 = 14\n",
      "2 x 8 = 16\n",
      "2 x 9 = 18\n",
      "2 x 10 = 20\n",
      " \n",
      "3 x 1 = 3\n",
      "3 x 2 = 6\n",
      "3 x 3 = 9\n",
      "3 x 4 = 12\n",
      "3 x 5 = 15\n",
      "3 x 6 = 18\n",
      "3 x 7 = 21\n",
      "3 x 8 = 24\n",
      "3 x 9 = 27\n",
      "3 x 10 = 30\n",
      " \n",
      "4 x 1 = 4\n",
      "4 x 2 = 8\n",
      "4 x 3 = 12\n",
      "4 x 4 = 16\n",
      "4 x 5 = 20\n",
      "4 x 6 = 24\n",
      "4 x 7 = 28\n",
      "4 x 8 = 32\n",
      "4 x 9 = 36\n",
      "4 x 10 = 40\n",
      " \n",
      "5 x 1 = 5\n",
      "5 x 2 = 10\n",
      "5 x 3 = 15\n",
      "5 x 4 = 20\n",
      "5 x 5 = 25\n",
      "5 x 6 = 30\n",
      "5 x 7 = 35\n",
      "5 x 8 = 40\n",
      "5 x 9 = 45\n",
      "5 x 10 = 50\n"
     ]
    }
   ],
   "source": [
    "a= int(input(\"Enter your starting table number: \"))\n",
    "b= int(input(\"Enter your ending table Number: \"))\n",
    "for table in range(a,b+1):\n",
    "    print(\" \")\n",
    "    for t in range(1,11):\n",
    "        print(table,'x',t,'=',table*t)"
   ]
  },
  {
   "cell_type": "code",
   "execution_count": 4,
   "metadata": {},
   "outputs": [
    {
     "name": "stdout",
     "output_type": "stream",
     "text": [
      "Enter your starting table number: 2\n",
      "Enter your ending table Number: 5\n",
      "\n",
      "2 x 1 = 2\t3 x 1 = 3\t4 x 1 = 4\t5 x 1 = 5\t\n",
      "2 x 2 = 4\t3 x 2 = 6\t4 x 2 = 8\t5 x 2 = 10\t\n",
      "2 x 3 = 6\t3 x 3 = 9\t4 x 3 = 12\t5 x 3 = 15\t\n",
      "2 x 4 = 8\t3 x 4 = 12\t4 x 4 = 16\t5 x 4 = 20\t\n",
      "2 x 5 = 10\t3 x 5 = 15\t4 x 5 = 20\t5 x 5 = 25\t\n",
      "2 x 6 = 12\t3 x 6 = 18\t4 x 6 = 24\t5 x 6 = 30\t\n",
      "2 x 7 = 14\t3 x 7 = 21\t4 x 7 = 28\t5 x 7 = 35\t\n",
      "2 x 8 = 16\t3 x 8 = 24\t4 x 8 = 32\t5 x 8 = 40\t\n",
      "2 x 9 = 18\t3 x 9 = 27\t4 x 9 = 36\t5 x 9 = 45\t\n",
      "2 x 10 = 20\t3 x 10 = 30\t4 x 10 = 40\t5 x 10 = 50\t"
     ]
    }
   ],
   "source": [
    "a= int(input(\"Enter your starting table number: \"))\n",
    "b= int(input(\"Enter your ending table Number: \"))\n",
    "for t in range(1,11):\n",
    "    print(end='\\n')\n",
    "    for table in range(a,b+1):\n",
    "        print(table,'x',t,'=',table*t, end='\\t')        "
   ]
  },
  {
   "cell_type": "code",
   "execution_count": 5,
   "metadata": {},
   "outputs": [
    {
     "name": "stdout",
     "output_type": "stream",
     "text": [
      "Enter your starting table number: 5\n",
      "Enter your ending table Number: 10\n",
      "\n",
      " 1 x 5 = 5\n",
      " 2 x 5 = 10\n",
      " 3 x 5 = 15\n",
      " 4 x 5 = 20\n",
      " 5 x 5 = 25\n",
      " 6 x 5 = 30\n",
      " 7 x 5 = 35\n",
      " 8 x 5 = 40\n",
      " 9 x 5 = 45\n",
      " 10 x 5 = 50\n",
      "\n",
      " 1 x 6 = 6\n",
      " 2 x 6 = 12\n",
      " 3 x 6 = 18\n",
      " 4 x 6 = 24\n",
      " 5 x 6 = 30\n",
      " 6 x 6 = 36\n",
      " 7 x 6 = 42\n",
      " 8 x 6 = 48\n",
      " 9 x 6 = 54\n",
      " 10 x 6 = 60\n",
      "\n",
      " 1 x 7 = 7\n",
      " 2 x 7 = 14\n",
      " 3 x 7 = 21\n",
      " 4 x 7 = 28\n",
      " 5 x 7 = 35\n",
      " 6 x 7 = 42\n",
      " 7 x 7 = 49\n",
      " 8 x 7 = 56\n",
      " 9 x 7 = 63\n",
      " 10 x 7 = 70\n",
      "\n",
      " 1 x 8 = 8\n",
      " 2 x 8 = 16\n",
      " 3 x 8 = 24\n",
      " 4 x 8 = 32\n",
      " 5 x 8 = 40\n",
      " 6 x 8 = 48\n",
      " 7 x 8 = 56\n",
      " 8 x 8 = 64\n",
      " 9 x 8 = 72\n",
      " 10 x 8 = 80\n",
      "\n",
      " 1 x 9 = 9\n",
      " 2 x 9 = 18\n",
      " 3 x 9 = 27\n",
      " 4 x 9 = 36\n",
      " 5 x 9 = 45\n",
      " 6 x 9 = 54\n",
      " 7 x 9 = 63\n",
      " 8 x 9 = 72\n",
      " 9 x 9 = 81\n",
      " 10 x 9 = 90\n",
      "\n",
      " 1 x 10 = 10\n",
      " 2 x 10 = 20\n",
      " 3 x 10 = 30\n",
      " 4 x 10 = 40\n",
      " 5 x 10 = 50\n",
      " 6 x 10 = 60\n",
      " 7 x 10 = 70\n",
      " 8 x 10 = 80\n",
      " 9 x 10 = 90\n",
      " 10 x 10 = 100\n"
     ]
    }
   ],
   "source": [
    "a= int(input(\"Enter your starting table number: \"))\n",
    "b= int(input(\"Enter your ending table Number: \"))\n",
    "for table in range(a,b+1):\n",
    "    print(end='\\n')\n",
    "    for t in range(1,11):\n",
    "        print(f\" {t} x {table} = {table*t}\")"
   ]
  },
  {
   "cell_type": "code",
   "execution_count": 1,
   "metadata": {},
   "outputs": [
    {
     "name": "stdout",
     "output_type": "stream",
     "text": [
      "Enter Table Range From: 5\n",
      "Enter Table Range To: 10\n",
      "\n",
      "5 x 1 = 5\t6 x 1 = 6\t7 x 1 = 7\t8 x 1 = 8\t9 x 1 = 9\t10 x 1 = 10\t\n",
      "5 x 2 = 10\t6 x 2 = 12\t7 x 2 = 14\t8 x 2 = 16\t9 x 2 = 18\t10 x 2 = 20\t\n",
      "5 x 3 = 15\t6 x 3 = 18\t7 x 3 = 21\t8 x 3 = 24\t9 x 3 = 27\t10 x 3 = 30\t\n",
      "5 x 4 = 20\t6 x 4 = 24\t7 x 4 = 28\t8 x 4 = 32\t9 x 4 = 36\t10 x 4 = 40\t\n",
      "5 x 5 = 25\t6 x 5 = 30\t7 x 5 = 35\t8 x 5 = 40\t9 x 5 = 45\t10 x 5 = 50\t\n",
      "5 x 6 = 30\t6 x 6 = 36\t7 x 6 = 42\t8 x 6 = 48\t9 x 6 = 54\t10 x 6 = 60\t\n",
      "5 x 7 = 35\t6 x 7 = 42\t7 x 7 = 49\t8 x 7 = 56\t9 x 7 = 63\t10 x 7 = 70\t\n",
      "5 x 8 = 40\t6 x 8 = 48\t7 x 8 = 56\t8 x 8 = 64\t9 x 8 = 72\t10 x 8 = 80\t\n",
      "5 x 9 = 45\t6 x 9 = 54\t7 x 9 = 63\t8 x 9 = 72\t9 x 9 = 81\t10 x 9 = 90\t\n",
      "5 x 10 = 50\t6 x 10 = 60\t7 x 10 = 70\t8 x 10 = 80\t9 x 10 = 90\t10 x 10 = 100\t"
     ]
    }
   ],
   "source": [
    "low = int(input('Enter Table Range From: '))\n",
    "high = int(input('Enter Table Range To: '))\n",
    "for ser in range(1,11):\n",
    "    print()\n",
    "    for table in range(low,high+1):\n",
    "        print(f\"{table} x {ser} = {table*ser}\", end='\\t')    "
   ]
  },
  {
   "cell_type": "code",
   "execution_count": null,
   "metadata": {},
   "outputs": [],
   "source": []
  }
 ],
 "metadata": {
  "kernelspec": {
   "display_name": "Python 3",
   "language": "python",
   "name": "python3"
  },
  "language_info": {
   "codemirror_mode": {
    "name": "ipython",
    "version": 3
   },
   "file_extension": ".py",
   "mimetype": "text/x-python",
   "name": "python",
   "nbconvert_exporter": "python",
   "pygments_lexer": "ipython3",
   "version": "3.7.4"
  }
 },
 "nbformat": 4,
 "nbformat_minor": 2
}
